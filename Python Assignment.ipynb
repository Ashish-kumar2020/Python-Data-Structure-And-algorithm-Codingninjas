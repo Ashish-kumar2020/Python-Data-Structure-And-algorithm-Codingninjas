{
 "cells": [
  {
   "cell_type": "markdown",
   "metadata": {},
   "source": [
    "## Ashish kumar singh 18SCSE1010012 cse-2"
   ]
  },
  {
   "cell_type": "markdown",
   "metadata": {},
   "source": [
    "Exp-1:Consider a list (list = []). You can perform the following\n",
    "commands:\n",
    "\n",
    "• insert i e: Insert integer at position .\n",
    "\n",
    "• print: Print the list.\n",
    "\n",
    "• remove e: Delete the first occurrence of integer .\n",
    "\n",
    "• append e: Insert integer at the end of the list.\n",
    "\n",
    "• sort: Sort the list.\n",
    "\n",
    "• pop: Pop the last element from the list.\n",
    "\n",
    "• reverse: Reverse the list.\n",
    "\n",
    "Initialize your list and read in the value of followed by lines of\n",
    "commands where each command will be of the types listed above.\n",
    "Iterate through each command in order and perform the corresponding\n",
    "operation on your list"
   ]
  },
  {
   "cell_type": "code",
   "execution_count": 12,
   "metadata": {},
   "outputs": [
    {
     "name": "stdout",
     "output_type": "stream",
     "text": [
      "12\n",
      "insert 0 5\n",
      "insert 1 10\n",
      "insert 0 6\n",
      "print\n",
      "[6, 5, 10]\n",
      "remove 6\n",
      "append 9\n",
      "append 1\n",
      "sort\n",
      "print\n",
      "[1, 5, 9, 10]\n",
      "reverse\n",
      "print\n",
      "[10, 9, 5, 1]\n",
      "print\n",
      "[10, 9, 5, 1]\n"
     ]
    }
   ],
   "source": [
    "arr = []\n",
    "for i in range(int(input())):\n",
    "    s = input().split()\n",
    "    for i in range(1,len(s)):\n",
    "        s[i] = int(s[i])\n",
    "       \n",
    "    if s[0] == \"append\":\n",
    "        arr.append(s[1])\n",
    "    elif s[0] == \"extend\":   \n",
    "        arr.extend(s[1:])\n",
    "    elif s[0] == \"insert\":\n",
    "        arr.insert(s[1],s[2])\n",
    "    elif s[0] == \"remove\":\n",
    "        arr.remove(s[1])\n",
    "    elif s[0] == \"pop\":\n",
    "        arr.pop()\n",
    "    elif s[0] == \"index\":\n",
    "        print(arr.index(s[1]))\n",
    "    elif s[0] == \"count\":\n",
    "        print( arr.count(s[1]))\n",
    "    elif s[0] == \"sort\":\n",
    "        arr.sort()\n",
    "    elif s[0] == \"reverse\":\n",
    "        arr.reverse()\n",
    "    elif s[0] == \"print\":\n",
    "        print( arr)\n",
    "\n"
   ]
  },
  {
   "cell_type": "markdown",
   "metadata": {},
   "source": [
    "Exp-2: Implement a linked list and perform the following operation on linkedlist\n",
    "1. Append the value at end\n",
    "2. Append the value in starting postion\n",
    "3. Insert the element in between at a specified position\n",
    "4. Delete first node\n",
    "5. remove the the element at a specified postion\n",
    "6. Display the linkedlist"
   ]
  },
  {
   "cell_type": "code",
   "execution_count": 19,
   "metadata": {},
   "outputs": [
    {
     "name": "stdout",
     "output_type": "stream",
     "text": [
      "9 8 7 6 5 -1\n",
      "LL before Insertion at ith position\n",
      "9->8->7->6->5->NULL\n",
      "LL after insertion\n",
      "1->9->8->7->6->5->NULL\n",
      "LL before deletion\n",
      "1->9->8->7->6->5->NULL\n",
      "LL after deletion\n",
      "1->9->7->6->5->NULL\n"
     ]
    }
   ],
   "source": [
    "from sys import stdin\n",
    "\n",
    "class Node :\n",
    "    def __init__(self, data) :\n",
    "        self.data = data\n",
    "        self.next = None\n",
    "\n",
    "def takeInput() :\n",
    "    inputList = [int(ele) for ele in input().split()]\n",
    "    head = None\n",
    "    tail = None\n",
    "    for currData in inputList:\n",
    "        if currData == -1:\n",
    "            break\n",
    "        newNode = Node(currData)\n",
    "        if head is None:\n",
    "            head = newNode\n",
    "            tail = newNode\n",
    "        else:\n",
    "            tail.next = newNode\n",
    "            tail = newNode\n",
    "    return head\n",
    "     \n",
    "def printLinkedList(head) :\n",
    "\n",
    "    while head is not None :\n",
    "        print(head.data, end = \"->\")\n",
    "        head = head.next\n",
    "\n",
    "    print(\"NULL\")\n",
    "\n",
    "\n",
    "\n",
    "\n",
    "def getNode(data):\n",
    "    newNode = Node(data)\n",
    "    return newNode;\n",
    "def insertPos(headNode, position, data): \n",
    "    head = headNode\n",
    "    if (position < 1):        \n",
    "        print(\"Invalid position!\")\n",
    "    if position == 1:\n",
    "        newNode = Node(data)\n",
    "        newNode.next = headNode\n",
    "        head = newNode             \n",
    "    else:\n",
    "        while (position != 0):           \n",
    "            position -= 1  \n",
    "            if (position == 1):\n",
    "                newNode = getNode(data)\n",
    "                newNode.next = headNode.next\n",
    "                headNode.next = newNode\n",
    "                break \n",
    "            headNode = headNode.next\n",
    "            if headNode == None:\n",
    "                break           \n",
    "        if position != 1:\n",
    "              print(\"position out of range\")        \n",
    "    return head\n",
    "\n",
    "\n",
    "def deleteNode(head, pos) :\n",
    "\n",
    "    if head is None :\n",
    "        return head\n",
    "\n",
    "    if pos == 0 :\n",
    "        return head.next\n",
    "\n",
    "    count  = 0\n",
    "    currHead = head\n",
    "    while currHead is not None and count < (pos - 1) :\n",
    "        count += 1\n",
    "        currHead = currHead.next\n",
    "\n",
    "    if (currHead is None) or (currHead.next is None) :\n",
    "        return head\n",
    "    \n",
    "    currHead.next = currHead.next.next\n",
    "\n",
    "    return head\n",
    "\n",
    "\n",
    "head = takeInput()\n",
    "print(\"LL before Insertion at ith position\")\n",
    "printLinkedList(head)\n",
    "head = insertPos(head, 1, 1);\n",
    "print(\"LL after insertion\")\n",
    "printLinkedList(head)\n",
    "print(\"LL before deletion\")\n",
    "printLinkedList(head)\n",
    "head = deleteNode(head, 2)\n",
    "print(\"LL after deletion\")\n",
    "printLinkedList(head)"
   ]
  },
  {
   "cell_type": "markdown",
   "metadata": {},
   "source": [
    "Exp-3:A teacher has given a project assignment to a class of 10 students.\n",
    "She wants to store the marks (out of 100 ) scored by each student. The marks scored are\n",
    "as mentioned below:\n",
    "89,78,99,76,77,67,99,98,90\n",
    "Write a python program to store the marks in a list and perform the following:\n",
    "1. The teacher forgot to include the marks of one student. Insert 78 at index position, 8\n",
    "and display the marks of all 10 students.\n",
    "2. The teacher also wants to know the marks scored by students represented by index\n",
    "positions, 5 and 7. Identify and display the two marks."
   ]
  },
  {
   "cell_type": "code",
   "execution_count": null,
   "metadata": {},
   "outputs": [],
   "source": []
  },
  {
   "cell_type": "code",
   "execution_count": null,
   "metadata": {},
   "outputs": [],
   "source": []
  },
  {
   "cell_type": "markdown",
   "metadata": {},
   "source": [
    "Exp-6:Given two lists, both having integer elements, write a python program using python lists\n",
    "to create and return a new list as per the rule given below:\n",
    "If the double of an element in list1 is present in list2, then add it to the new list.\n",
    "Sample Input\n",
    "\n",
    "list1 - [11, 8,23,7,25, 15]\n",
    "\n",
    "list2 – [6, 33, 50,31, 46, 78, 16,34]\n",
    "\n",
    "Expected Output : new_list – [8,23,25]"
   ]
  },
  {
   "cell_type": "code",
   "execution_count": 15,
   "metadata": {},
   "outputs": [
    {
     "data": {
      "text/plain": [
       "[8, 23, 25]"
      ]
     },
     "execution_count": 15,
     "metadata": {},
     "output_type": "execute_result"
    }
   ],
   "source": [
    "List1 = [11, 8,23,7,25, 15]\n",
    "List2 =  [6, 33, 50,31, 46, 78, 16,34]\n",
    "set2 = set(List2)\n",
    "[i for i in List1 if i * 2 in set2]"
   ]
  },
  {
   "cell_type": "markdown",
   "metadata": {},
   "source": [
    "Exp-7:\n",
    "Given a linked list containing whole numbers, write a python function which finds and\n",
    "returns the sum of all the elements at the odd position in the given linked list"
   ]
  },
  {
   "cell_type": "code",
   "execution_count": 20,
   "metadata": {},
   "outputs": [
    {
     "name": "stdout",
     "output_type": "stream",
     "text": [
      "1 2 3 4 5 -1\n",
      "1->2->3->4->5->NULL\n"
     ]
    },
    {
     "data": {
      "text/plain": [
       "9"
      ]
     },
     "execution_count": 20,
     "metadata": {},
     "output_type": "execute_result"
    }
   ],
   "source": [
    "class Node :\n",
    "    def __init__(self, data) :\n",
    "        self.data = data\n",
    "        self.next = None\n",
    "        \n",
    "\n",
    "def takeInput() :\n",
    "    inputList = [int(ele) for ele in input().split()]\n",
    "    head = None\n",
    "    tail = None\n",
    "    for currData in inputList:\n",
    "        if currData == -1:\n",
    "            break\n",
    "        newNode = Node(currData)\n",
    "        if head is None:\n",
    "            head = newNode\n",
    "            tail = newNode\n",
    "        else:\n",
    "            tail.next = newNode\n",
    "            tail = newNode\n",
    "    return head\n",
    "\n",
    "def printLinkedList(head) :\n",
    "\n",
    "    while head is not None :\n",
    "        print(head.data, end = \"->\")\n",
    "        head = head.next\n",
    "\n",
    "    print(\"NULL\")\n",
    "    \n",
    "def sumOfAlternateNode(head):\n",
    "    odd = 0;\n",
    "    ptr = head;\n",
    "    while(ptr!=None):\n",
    "        if(ptr.data%2!=0):\n",
    "            odd = odd+ptr.data\n",
    "        ptr = ptr.next\n",
    "    return odd\n",
    "\n",
    "head = takeInput()\n",
    "printLinkedList(head)\n",
    "sumOfAlternateNode(head) \n",
    "  "
   ]
  },
  {
   "cell_type": "markdown",
   "metadata": {},
   "source": [
    "Exp-8: Write a python program to find the maximum value in a linked list and replace it with a\n",
    "given value.\n",
    "Assume that the linked list is populated with whole numbers and there is only one\n",
    "maximum value in the linked list."
   ]
  },
  {
   "cell_type": "code",
   "execution_count": 21,
   "metadata": {},
   "outputs": [
    {
     "name": "stdout",
     "output_type": "stream",
     "text": [
      "1 2 3 4 5 6 7 99 -1\n",
      "1->2->3->4->5->6->7->99->NULL\n"
     ]
    },
    {
     "data": {
      "text/plain": [
       "99"
      ]
     },
     "execution_count": 21,
     "metadata": {},
     "output_type": "execute_result"
    }
   ],
   "source": [
    "class Node :\n",
    "    def __init__(self, data) :\n",
    "        self.data = data\n",
    "        self.next = None\n",
    "        \n",
    "\n",
    "def takeInput() :\n",
    "    inputList = [int(ele) for ele in input().split()]\n",
    "    head = None\n",
    "    tail = None\n",
    "    for currData in inputList:\n",
    "        if currData == -1:\n",
    "            break\n",
    "        newNode = Node(currData)\n",
    "        if head is None:\n",
    "            head = newNode\n",
    "            tail = newNode\n",
    "        else:\n",
    "            tail.next = newNode\n",
    "            tail = newNode\n",
    "    return head\n",
    "\n",
    "def printLinkedList(head) :\n",
    "\n",
    "    while head is not None :\n",
    "        print(head.data, end = \"->\")\n",
    "        head = head.next\n",
    "\n",
    "    print(\"NULL\")\n",
    "\n",
    "\n",
    "\n",
    "\n",
    "def largestNode(head):\n",
    "    max = -32767\n",
    "    while(head!=None):\n",
    "        if(max < head.data):\n",
    "            max = head.data\n",
    "        head = head.next\n",
    "    return max\n",
    "\n",
    "\n",
    "head = takeInput()\n",
    "printLinkedList(head)\n",
    "largestNode(head)"
   ]
  },
  {
   "cell_type": "markdown",
   "metadata": {},
   "source": [
    "Exp-10: Write a python program to remove all duplicate elements from a sorted linked list\n",
    "containing integer data.\n",
    "\n",
    "Use the LinkedList class and methods in it to implement the above program.\n",
    "\n",
    "Example:\n",
    "\n",
    "Input LinkedList: 10 10 20 20 30 30 30 40 50\n",
    "\n",
    "Output LinkedList: 10 20 30 40 50"
   ]
  },
  {
   "cell_type": "code",
   "execution_count": 1,
   "metadata": {},
   "outputs": [
    {
     "name": "stdout",
     "output_type": "stream",
     "text": [
      "1 2 2 3 4 5 -1\n",
      "1->2->2->3->4->5->NULL\n",
      "1->2->3->4->5->NULL\n"
     ]
    }
   ],
   "source": [
    "class Node :\n",
    "    def __init__(self, data) :\n",
    "        self.data = data\n",
    "        self.next = None\n",
    "        \n",
    "\n",
    "def takeInput() :\n",
    "    inputList = [int(ele) for ele in input().split()]\n",
    "    head = None\n",
    "    tail = None\n",
    "    for currData in inputList:\n",
    "        if currData == -1:\n",
    "            break\n",
    "        newNode = Node(currData)\n",
    "        if head is None:\n",
    "            head = newNode\n",
    "            tail = newNode\n",
    "        else:\n",
    "            tail.next = newNode\n",
    "            tail = newNode\n",
    "    return head\n",
    "\n",
    "def printLinkedList(head) :\n",
    "\n",
    "    while head is not None :\n",
    "        print(head.data, end = \"->\")\n",
    "        head = head.next\n",
    "\n",
    "    print(\"NULL\")\n",
    "def removeDuplicates(head):\n",
    "        temp = head\n",
    "        if temp is None:\n",
    "            return\n",
    "        while temp.next is not None:\n",
    "            if temp.data == temp.next.data:\n",
    "                new = temp.next.next\n",
    "                temp.next = None\n",
    "                temp.next = new\n",
    "            else:\n",
    "                temp = temp.next\n",
    "        return head\n",
    "head = takeInput()\n",
    "printLinkedList(head)\n",
    "head = removeDuplicates(head)\n",
    "printLinkedList(head)"
   ]
  },
  {
   "cell_type": "markdown",
   "metadata": {},
   "source": [
    "# STACK AND QUEUES"
   ]
  },
  {
   "cell_type": "markdown",
   "metadata": {},
   "source": [
    "Exp-1:  Implement stack using list\n"
   ]
  },
  {
   "cell_type": "code",
   "execution_count": 16,
   "metadata": {},
   "outputs": [
    {
     "data": {
      "text/plain": [
       "12"
      ]
     },
     "execution_count": 16,
     "metadata": {},
     "output_type": "execute_result"
    }
   ],
   "source": [
    "class Node :\n",
    "\n",
    "    def __init__(self, data) :\n",
    "        self.data = data\n",
    "        self.next = None\n",
    "\n",
    "class Stack:\n",
    "    \n",
    "    def __init__(self):\n",
    "        self.__head = None\n",
    "        self.__count = 0\n",
    "        \n",
    "    def push(self,element):\n",
    "        newNode = Node(element)\n",
    "        newNode.next = self.__head\n",
    "        self.__head = newNode\n",
    "        self.__count = self.__count + 1\n",
    "        \n",
    "    def pop(self):\n",
    "        if self.isEmpty() is True:\n",
    "            print(\"Stack is Empty!\")\n",
    "            return \n",
    "        data = self.__head.data\n",
    "        self.__head = self.__head.next\n",
    "        self.__count = self.__count -1\n",
    "        return data\n",
    "    \n",
    "    def top(self):\n",
    "        if self.isEmpty() is True:\n",
    "            print(\"Stack is Empty!\")\n",
    "            return\n",
    "        data = self.__head.data\n",
    "        return data\n",
    "    \n",
    "    def size(self):\n",
    "        return self.__count\n",
    "    \n",
    "    def isEmpty(self):\n",
    "        return self.size() == 0\n",
    "\n",
    "    \n",
    "    \n",
    "s = Stack()\n",
    "s.push(9)\n",
    "s.push(10)\n",
    "s.push(11)\n",
    "s.push(12)\n",
    "s.push(13)\n",
    "s.pop()\n",
    "s.top()"
   ]
  },
  {
   "cell_type": "markdown",
   "metadata": {},
   "source": [
    "Exp-2: Implement stack using class having basic attributes and methods of stack like. top\n",
    "variable, push method, pop method, display method"
   ]
  },
  {
   "cell_type": "code",
   "execution_count": 31,
   "metadata": {},
   "outputs": [
    {
     "data": {
      "text/plain": [
       "11"
      ]
     },
     "execution_count": 31,
     "metadata": {},
     "output_type": "execute_result"
    }
   ],
   "source": [
    "class Stack:\n",
    "    def __init__(self):\n",
    "        self.__data = []\n",
    "        \n",
    "    def push(self,item):\n",
    "        self.__data.append(item)\n",
    "        \n",
    "    def pop(self):\n",
    "        if self.isEmpty():\n",
    "            print(\"Stack is Empty\")\n",
    "            return\n",
    "        return self.__data.pop()\n",
    "    \n",
    "    def top(self):\n",
    "        if self.isEmpty():\n",
    "            print(\"Stack is Empty\")\n",
    "            return\n",
    "        return self.__data[len(self.__data) - 1]\n",
    "    \n",
    "    def size(self):\n",
    "        return len(self.__data)\n",
    "    \n",
    "    def isEmpty(self):\n",
    "        return self.size() == 0\n",
    "    \n",
    " \n",
    "  \n",
    "\n",
    "\n",
    "\n",
    "s = Stack()\n",
    "s.push(17)\n",
    "s.push(18)\n",
    "s.push(19)\n",
    "s.push(11)\n",
    "s.push(12)\n",
    "\n",
    "s.pop()\n",
    "s.top()"
   ]
  },
  {
   "cell_type": "markdown",
   "metadata": {},
   "source": [
    "Exp-3: \n",
    "Given a stack of integers, write a program which calculates the average of all the\n",
    "elements in the stack and push it to the stack. The given input stack should be left\n",
    "unchanged\n",
    "except for the average pushed to it as the top most element."
   ]
  },
  {
   "cell_type": "code",
   "execution_count": 11,
   "metadata": {},
   "outputs": [
    {
     "name": "stdout",
     "output_type": "stream",
     "text": [
      "push <value>\n",
      "disp\n",
      "quit\n",
      "What would you like to do? push 23\n",
      "What would you like to do? push 24\n",
      "What would you like to do? push 35\n",
      "What would you like to do? disp\n",
      "27.17 23.5 23.0\n",
      "What would you like to do? pop\n",
      "Popped value:  27.17\n",
      "What would you like to do? disp\n",
      "23.5 23.0\n",
      "What would you like to do? quit\n"
     ]
    }
   ],
   "source": [
    "class Stack:\n",
    "    def __init__(self):\n",
    "        self.items = [] \n",
    "    def is_empty(self):\n",
    "        return self.items == []\n",
    "    def push(self, data):\n",
    "        data=(data+sum(self.items))/(len(self.items)+1)\n",
    "        data=round(data, 2)\n",
    "        self.items.append(data)\n",
    "        \n",
    "    def pop(self):\n",
    "        return self.items.pop()\n",
    "    def display(self):\n",
    "        print(*self.items[::-1])\n",
    "        \n",
    "s = Stack()\n",
    "print('push <value>')\n",
    "print('disp')\n",
    "print('quit')\n",
    "while True:\n",
    "    do = input('What would you like to do? ').split()\n",
    "    operation = do[0].strip().lower()\n",
    "    if operation == 'push':\n",
    "        s.push(int(do[1]))\n",
    "    elif operation == 'pop':\n",
    "        if s.is_empty():\n",
    "            print('Stack is empty.')\n",
    "        else:\n",
    "            print('Popped value: ', s.pop())\n",
    "    elif operation == 'disp':\n",
    "        s.display();\n",
    "    elif operation == 'quit':\n",
    "        break\n"
   ]
  },
  {
   "cell_type": "markdown",
   "metadata": {},
   "source": [
    "Exp-4: Write a python function which accepts a stack of integers, sorts it in ascending order and\n",
    "returns the sorted stack."
   ]
  },
  {
   "cell_type": "code",
   "execution_count": 13,
   "metadata": {},
   "outputs": [
    {
     "name": "stdout",
     "output_type": "stream",
     "text": [
      "Sorted numbers are: \n",
      "2 3 4 6 7 9 56 \n"
     ]
    }
   ],
   "source": [
    "\n",
    "def createStack(): \n",
    "    stack = [] \n",
    "    return stack \n",
    "def isEmpty( stack ): \n",
    "    return len(stack) == 0\n",
    "def push( stack, item ): \n",
    "    stack.append( item )\n",
    "def top( stack ): \n",
    "    p = len(stack) \n",
    "    return stack[p-1]\n",
    "def pop( stack ): \n",
    "    if(isEmpty( stack )): \n",
    "        print(\"Stack Underflow \") \n",
    "        exit(1) \n",
    "    return stack.pop()\n",
    "def prints(stack): \n",
    "    for i in range(len(stack)-1, -1, -1): \n",
    "        print(stack[i], end = ' ') \n",
    "    print()\n",
    "    \n",
    "def sortStack ( stack ): \n",
    "    tmpStack = createStack() \n",
    "    while(isEmpty(stack) == False):\n",
    "        tmp = top(stack) \n",
    "        pop(stack)\n",
    "        while(isEmpty(tmpStack) == False and\n",
    "            int(top(tmpStack)) < int(tmp)): \n",
    "            push(stack,top(tmpStack)) \n",
    "            pop(tmpStack) \n",
    "        push(tmpStack,tmp) \n",
    "    return tmpStack\n",
    "\n",
    "stack = createStack() \n",
    "push( stack, str(9) ) \n",
    "push( stack, str(3) ) \n",
    "push( stack, str(56) ) \n",
    "push( stack, str(6) ) \n",
    "push( stack, str(2) ) \n",
    "push( stack, str(7) )\n",
    "push( stack, str(4) )\n",
    "print(\"Sorted numbers are: \") \n",
    "sortedst = sortStack ( stack ) \n",
    "prints(sortedst) \n"
   ]
  },
  {
   "cell_type": "markdown",
   "metadata": {},
   "source": [
    "Exp-5:Implement queue using list\n"
   ]
  },
  {
   "cell_type": "code",
   "execution_count": 16,
   "metadata": {},
   "outputs": [
    {
     "data": {
      "text/plain": [
       "13"
      ]
     },
     "execution_count": 16,
     "metadata": {},
     "output_type": "execute_result"
    }
   ],
   "source": [
    "class Node:\n",
    "    def __init__(self, data):\n",
    "        self.data = data\n",
    "        self.next = None\n",
    "        \n",
    "\n",
    "class QueueUsingLL:\n",
    "    \n",
    "    def __init__(self):\n",
    "        self.__head = None\n",
    "        self.__tail = None\n",
    "        self.__count = 0\n",
    "  \n",
    "        \n",
    "    def enqueue(self, element):\n",
    "        newNode = Node(element)\n",
    "        if self.__head is None:\n",
    "            self.__head = newNode            \n",
    "        else:\n",
    "            self.__tail.next = newNode\n",
    "            \n",
    "        self.__tail = newNode\n",
    "        self.__count += 1\n",
    "            \n",
    "        \n",
    "    def dequeue(self):        \n",
    "        if self.__head is None:\n",
    "            print(\"Hey! Queue is Empty\")\n",
    "            return \n",
    "        \n",
    "        ele = self.__head.data\n",
    "        self.__head = self.__head.next\n",
    "        self.__count -= 1\n",
    "        \n",
    "        return ele\n",
    "        \n",
    "    def front(self):\n",
    "        if self.__count == 0:\n",
    "            print(\"Queue is Empty!\")\n",
    "            return \n",
    "        \n",
    "        return self.__head.data\n",
    "        \n",
    "    def getSize(self):\n",
    "        return self.__count\n",
    "    \n",
    "    def isEmpty(self):\n",
    "        return self.size() == 0\n",
    "\n",
    "    \n",
    "q = QueueUsingLL()\n",
    "q.enqueue(12)\n",
    "q.enqueue(13)\n",
    "q.enqueue(14)\n",
    "q.enqueue(15)\n",
    "q.dequeue()\n",
    "q.front()"
   ]
  },
  {
   "cell_type": "markdown",
   "metadata": {},
   "source": [
    "Exp-6: Implement queue using 2 stacks"
   ]
  },
  {
   "cell_type": "code",
   "execution_count": 21,
   "metadata": {},
   "outputs": [
    {
     "name": "stdout",
     "output_type": "stream",
     "text": [
      "12\n",
      "13\n",
      "14\n",
      "15\n"
     ]
    }
   ],
   "source": [
    "class QueueUsingTwoStack:\n",
    "    def __init__(self):\n",
    "        self.__s1 = []\n",
    "        self.__s2 = []\n",
    "        \n",
    "    def enqueue(self,data):\n",
    "        while(len(self.__s1)!=0):\n",
    "            self.__s2.append(self.__s1.pop())\n",
    "        self.__s1.append(data)\n",
    "        while(len(self.__s2)!=0):\n",
    "            self.__s1.append(self.__s2.pop())\n",
    "        return\n",
    "    def dequeue(self):\n",
    "        if(len(self.__s1) == 0):\n",
    "            return -1\n",
    "        return self.__s1.pop()\n",
    "    \n",
    "    \n",
    "    def front(self):\n",
    "        if(len(self.__s1) == 0):\n",
    "            return -1\n",
    "        return self.__s1[-1]\n",
    "    \n",
    "    \n",
    "    def size(self):\n",
    "        return len(self.__s1)\n",
    "    def isEmpty(self):\n",
    "        return self.size() == 0\n",
    "    \n",
    "    \n",
    "q = QueueUsingTwoStack()\n",
    "q.enqueue(12)\n",
    "q.enqueue(13)\n",
    "q.enqueue(14)\n",
    "q.enqueue(15)\n",
    "while(q.isEmpty() is False):\n",
    "    print(q.front())\n",
    "    q.dequeue()"
   ]
  },
  {
   "cell_type": "markdown",
   "metadata": {},
   "source": [
    "Exp-7: Implement stack using 2 queues\n"
   ]
  },
  {
   "cell_type": "code",
   "execution_count": 28,
   "metadata": {},
   "outputs": [
    {
     "data": {
      "text/plain": [
       "11"
      ]
     },
     "execution_count": 28,
     "metadata": {},
     "output_type": "execute_result"
    }
   ],
   "source": [
    "class Node:\n",
    "    def __init__(self, data):\n",
    "        self.data = data\n",
    "        self.next = None\n",
    "        \n",
    "\n",
    "class queue:\n",
    "    \n",
    "    def __init__(self):\n",
    "        self.__head = None\n",
    "        self.__tail = None\n",
    "        self.__count = 0\n",
    "  \n",
    "        \n",
    "    def enqueue(self, element):\n",
    "        newNode = Node(element)\n",
    "        if self.__head is None:\n",
    "            self.__head = newNode            \n",
    "        else:\n",
    "            self.__tail.next = newNode\n",
    "            \n",
    "        self.__tail = newNode\n",
    "        self.__count += 1\n",
    "            \n",
    "        \n",
    "    def dequeue(self):        \n",
    "        if self.__head is None:\n",
    "            print(\"Hey! Queue is Empty\")\n",
    "            return \n",
    "        \n",
    "        ele = self.__head.data\n",
    "        self.__head = self.__head.next\n",
    "        self.__count -= 1\n",
    "        \n",
    "        return ele\n",
    "        \n",
    "    def front(self):\n",
    "        if self.__count == 0:\n",
    "            print(\"Queue is Empty!\")\n",
    "            return \n",
    "        \n",
    "        return self.__head.data\n",
    "        \n",
    "    def getSize(self):\n",
    "        return self.__count\n",
    "    \n",
    "    def isEmpty(self):\n",
    "        return self.size() == 0\n",
    "class Stack :\n",
    "    \n",
    "    def __init__(self) :\n",
    "        self.q1 = queue.Queue()\n",
    "        self.q2 = queue.Queue() \n",
    "\n",
    "        \n",
    "    def getSize(self) :\n",
    "        return self.q1.qsize()\n",
    "    \n",
    "    def isEmpty(self) :\n",
    "        return self.getSize() == 0\n",
    "    \n",
    "    def push(self, data) :\n",
    "        self.q1.put(data)\n",
    "        \n",
    "    def pop(self) :\n",
    "        if self.isEmpty() :\n",
    "            return -1\n",
    "        \n",
    "        while self.q1.qsize() > 1 :\n",
    "            self.q2.put(self.q1.get())\n",
    "\n",
    "        ans = self.q1.get()\n",
    "        \n",
    "        temp = self.q1\n",
    "        self.q1 = self.q2\n",
    "        self.q2 = temp\n",
    "\n",
    "        return ans\n",
    "\n",
    "    def top(self) :\n",
    "        if self.isEmpty() :\n",
    "            return -1\n",
    "\n",
    "        while self.q1.qsize() > 1 : \n",
    "            self.q2.put(self.q1.get())\n",
    "\n",
    "        ans = self.q1.get()\n",
    "        self.q2.put(ans)\n",
    "        \n",
    "        temp = self.q1\n",
    "        self.q1 = self.q2\n",
    "        self.q2 = temp\n",
    "\n",
    "        return ans\n",
    "\n",
    "    \n",
    "s = queue()\n",
    "s.enqueue(11)\n",
    "s.enqueue(12)\n",
    "s.enqueue(13)\n",
    "s.enqueue(14)\n",
    "s.front()"
   ]
  },
  {
   "cell_type": "markdown",
   "metadata": {},
   "source": [
    "Exp-8:\n",
    "In a sequence of characters, a letter means en-queue and an asterisk means de-queue.\n",
    "\n",
    "Write a python function which accepts the given sequence and returns the string\n",
    "\n",
    "obtained by de-queuing.\n",
    "\n",
    "Sample Input 1 I*TS** A **BE***AUT**IF**UL** D**AY***\n",
    "\n",
    "Expected Output ITS A BEAUTIFUL DAY\n",
    "\n",
    "Sample Input 2 : E*NE**M*Y S***HI**P*S* O**N T***H*E W***AY**\n",
    "\n",
    "Expected Output : ENEMY SHIPS ON THE WAY"
   ]
  },
  {
   "cell_type": "code",
   "execution_count": 30,
   "metadata": {},
   "outputs": [
    {
     "name": "stdout",
     "output_type": "stream",
     "text": [
      "ITS A BEAUTIFUL DAY\n",
      "ENEMY SHIPS ON THE WAY\n"
     ]
    }
   ],
   "source": [
    "def input_s(str_statement):\n",
    "    new_str_statement = []\n",
    "    for i in str_statement:\n",
    "        if i != \"*\":\n",
    "            new_str_statement.append(i)\n",
    "    new_str_state = \"\"\n",
    "    for i in new_str_statement:\n",
    "        new_str_state += i\n",
    "    print(new_str_state)\n",
    "    # return ''.join(new_str_statement)\n",
    "\n",
    "\n",
    "input_s(\"I*TS** A **BE***AUT**IF**UL** D**AY***\")\n",
    "input_s(\"E*NE**M*Y S***HI**P*S* O**N T***H*E W***AY**\")\n"
   ]
  },
  {
   "cell_type": "markdown",
   "metadata": {},
   "source": [
    "Exp-9:Given n processes with their burst times, the task is to find average waiting time and\n",
    "average turn around time using FCFS scheduling algorithm. Assuming arrival time of\n",
    "each process is 0.\n",
    "\n",
    "Input :\n",
    "n = 3\n",
    "\n",
    "Process no : 1 2 3\n",
    "\n",
    "\n",
    "Burst Time: 10 5 8\n",
    "\n",
    "Output : Av. Waiting time : 8.33\n",
    "\n",
    "Av Turn around time : 16\n"
   ]
  },
  {
   "cell_type": "code",
   "execution_count": 32,
   "metadata": {},
   "outputs": [
    {
     "name": "stdout",
     "output_type": "stream",
     "text": [
      "Processes Burst Time   Arrival Time Waiting   Time Turn-Around  Time   Completion Time \n",
      "\n",
      "  1 \t\t 10 \t\t 0 \t\t 0 \t\t  10 \t\t  10\n",
      "  2 \t\t 5 \t\t 0 \t\t 10 \t\t  15 \t\t  15\n",
      "  3 \t\t 8 \t\t 0 \t\t 15 \t\t  23 \t\t  23\n",
      "Average waiting time = 8.33333 \n",
      "\n",
      "Average turn around time =  16.0\n"
     ]
    }
   ],
   "source": [
    "def findWaitingTime(processes, n, bt, wt, at): \n",
    "    service_time = [0] * n \n",
    "    service_time[0] = 0\n",
    "    wt[0] = 0 \n",
    "    for i in range(1, n):\n",
    "        service_time[i] = (service_time[i - 1] +bt[i - 1]) \n",
    "        wt[i] = service_time[i] - at[i] \n",
    "        if (wt[i] < 0):\n",
    "            wt[i] = 0\n",
    "def findTurnAroundTime(processes, n, bt, wt, tat): \n",
    "    for i in range(n):\n",
    "        tat[i] = bt[i] + wt[i]\n",
    "def findavgTime(processes, n, bt, at): \n",
    "    wt = [0] * n\n",
    "    tat = [0] * n \n",
    "    findWaitingTime(processes, n, bt, wt, at)\n",
    "    findTurnAroundTime(processes, n, bt, wt, tat) \n",
    "    print(\"Processes Burst Time   Arrival Time Waiting \", \" Time Turn-Around  Time   Completion Time \\n\")\n",
    "    total_wt = 0\n",
    "    total_tat = 0\n",
    "    for i in range(n):\n",
    "\n",
    "        total_wt = total_wt + wt[i] \n",
    "        total_tat = total_tat + tat[i] \n",
    "        compl_time = tat[i] + at[i] \n",
    "        print(\" \", i + 1, \"\\t\\t\", bt[i], \"\\t\\t\", at[i], \"\\t\\t\", wt[i], \"\\t\\t \", tat[i], \"\\t\\t \", compl_time) \n",
    "\n",
    "    print(\"Average waiting time = %.5f \"%(total_wt /n))\n",
    "    print(\"\\nAverage turn around time = \", total_tat / n) \n",
    "if __name__ ==\"__main__\":\n",
    "    processes = [1, 2, 3]\n",
    "    n = 3\n",
    "    burst_time = [10, 5,8] \n",
    "    arrival_time = [0, 0, 0]\n",
    "    findavgTime(processes, n, burst_time,arrival_time)\n"
   ]
  },
  {
   "cell_type": "markdown",
   "metadata": {},
   "source": [
    "Exp-10:  Write a Python program to create a LIFO queue."
   ]
  },
  {
   "cell_type": "code",
   "execution_count": 29,
   "metadata": {},
   "outputs": [
    {
     "data": {
      "text/plain": [
       "13"
      ]
     },
     "execution_count": 29,
     "metadata": {},
     "output_type": "execute_result"
    }
   ],
   "source": [
    "class Node:\n",
    "    def __init__(self, data):\n",
    "        self.data = data\n",
    "        self.next = None\n",
    "        \n",
    "\n",
    "class QueueUsingLL:\n",
    "    \n",
    "    def __init__(self):\n",
    "        self.__head = None\n",
    "        self.__tail = None\n",
    "        self.__count = 0\n",
    "  \n",
    "        \n",
    "    def enqueue(self, element):\n",
    "        newNode = Node(element)\n",
    "        if self.__head is None:\n",
    "            self.__head = newNode            \n",
    "        else:\n",
    "            self.__tail.next = newNode\n",
    "            \n",
    "        self.__tail = newNode\n",
    "        self.__count += 1\n",
    "            \n",
    "        \n",
    "    def dequeue(self):        \n",
    "        if self.__head is None:\n",
    "            print(\"Hey! Queue is Empty\")\n",
    "            return \n",
    "        \n",
    "        ele = self.__head.data\n",
    "        self.__head = self.__head.next\n",
    "        self.__count -= 1\n",
    "        \n",
    "        return ele\n",
    "        \n",
    "    def front(self):\n",
    "        if self.__count == 0:\n",
    "            print(\"Queue is Empty!\")\n",
    "            return \n",
    "        \n",
    "        return self.__head.data\n",
    "        \n",
    "    def getSize(self):\n",
    "        return self.__count\n",
    "    \n",
    "    def isEmpty(self):\n",
    "        return self.size() == 0\n",
    "\n",
    "    \n",
    "q = QueueUsingLL()\n",
    "q.enqueue(12)\n",
    "q.enqueue(13)\n",
    "q.enqueue(14)\n",
    "q.enqueue(15)\n",
    "q.dequeue()\n",
    "q.front()"
   ]
  }
 ],
 "metadata": {
  "kernelspec": {
   "display_name": "Python 3",
   "language": "python",
   "name": "python3"
  },
  "language_info": {
   "codemirror_mode": {
    "name": "ipython",
    "version": 3
   },
   "file_extension": ".py",
   "mimetype": "text/x-python",
   "name": "python",
   "nbconvert_exporter": "python",
   "pygments_lexer": "ipython3",
   "version": "3.8.5"
  }
 },
 "nbformat": 4,
 "nbformat_minor": 4
}
