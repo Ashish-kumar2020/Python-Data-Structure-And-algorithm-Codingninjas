{
 "cells": [
  {
   "cell_type": "code",
   "execution_count": null,
   "metadata": {},
   "outputs": [],
   "source": [
    "def RecrBinarySearch(arr , left, right, item):\n",
    "    if right >= 1:\n",
    "        mid = left + (right - left) // 2\n",
    "        if(arr[mid] == item):\n",
    "            return mid\n",
    "        elif arr[mid] > item:\n",
    "            return RecrBinarySearch(arr, left , mid-1 ,item);\n",
    "        else:\n",
    "            return RecrBinarySearch(arr , mid + 1, right , item);\n",
    "    else:\n",
    "        return -1\n",
    "    \n",
    "    \n",
    "arr = [2,3,4,5,6,7,8]\n",
    "\n",
    "ans = RecrBinarySearch(arr,0,len(arr)-1,10)\n",
    "if ans != -1:\n",
    "    print(\"Element is present at index : \", ans)\n",
    "else:\n",
    "    print(\"Element not found\")"
   ]
  }
 ],
 "metadata": {
  "kernelspec": {
   "display_name": "Python 3",
   "language": "python",
   "name": "python3"
  },
  "language_info": {
   "codemirror_mode": {
    "name": "ipython",
    "version": 3
   },
   "file_extension": ".py",
   "mimetype": "text/x-python",
   "name": "python",
   "nbconvert_exporter": "python",
   "pygments_lexer": "ipython3",
   "version": "3.8.5"
  }
 },
 "nbformat": 4,
 "nbformat_minor": 4
}
