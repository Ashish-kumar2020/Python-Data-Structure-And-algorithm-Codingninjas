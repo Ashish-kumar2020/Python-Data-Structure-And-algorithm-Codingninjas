{
 "cells": [
  {
   "cell_type": "markdown",
   "metadata": {},
   "source": [
    "Remove X"
   ]
  },
  {
   "cell_type": "code",
   "execution_count": null,
   "metadata": {},
   "outputs": [],
   "source": [
    "def removeX(string):\n",
    "    if len(string)==0:\n",
    "        return string\n",
    "    if string[0]=='x':\n",
    "        return removeX(string[1:])\n",
    "    return string[0]+removeX(string[1:])\n",
    "\n",
    "# Main\n",
    "string = input()\n",
    "print(removeX(string))\n"
   ]
  },
  {
   "cell_type": "markdown",
   "metadata": {},
   "source": [
    "Remove Duplicates-Recursive"
   ]
  },
  {
   "cell_type": "code",
   "execution_count": null,
   "metadata": {},
   "outputs": [],
   "source": [
    "def removeConsecutiveDuplicates(string):\n",
    "    if len(string)<=1:\n",
    "        return string\n",
    "    string2 = removeConsecutiveDuplicates(string[1:])\n",
    "    if string[0]==string[1]:\n",
    "        return string2\n",
    "    else:\n",
    "        return string[0]+string2\n",
    "\n",
    "# Main\n",
    "string = input().strip()\n",
    "print(removeConsecutiveDuplicates(string))\n"
   ]
  },
  {
   "cell_type": "markdown",
   "metadata": {},
   "source": [
    "Merge Sort"
   ]
  },
  {
   "cell_type": "code",
   "execution_count": null,
   "metadata": {},
   "outputs": [],
   "source": [
    "# Problem ID  44 Merge Sort\n",
    "def mergeSort(arr, start, end):\n",
    "    size=end-start\n",
    "    if size<=1:\n",
    "        return\n",
    "    mid = (start+end)//2\n",
    "    mergeSort(arr, start, mid)\n",
    "    mergeSort(arr, mid, end)\n",
    "\n",
    "    #Merge Two Sorted lists\n",
    "    result = [0] * size\n",
    "    i=start\n",
    "    j=mid\n",
    "    k=0\n",
    "    while(i<mid and j<end):\n",
    "        if(arr[i]<arr[j]):\n",
    "            result[k] = arr[i]\n",
    "            k += 1\n",
    "            i += 1\n",
    "        else:\n",
    "            result[k] = arr[j]\n",
    "            k += 1\n",
    "            j += 1\n",
    "    while(i<mid):\n",
    "            result[k] = arr[i]\n",
    "            k += 1\n",
    "            i += 1\n",
    "    while(j<end):\n",
    "            result[k] = arr[j]\n",
    "            k += 1\n",
    "            j += 1\n",
    "    for i in range(0,size):\n",
    "        arr[start+i] = result[i]\n",
    "\n",
    "# Main\n",
    "n=int(input())\n",
    "arr=list(int(i) for i in input().strip().split(' '))\n",
    "mergeSort(arr, 0, n)\n",
    "for num in arr:\n",
    "    print(num, end=' ')\n",
    "print()\n"
   ]
  },
  {
   "cell_type": "markdown",
   "metadata": {},
   "source": [
    "Quick Sort"
   ]
  },
  {
   "cell_type": "code",
   "execution_count": null,
   "metadata": {},
   "outputs": [],
   "source": [
    "# Problem ID 1138 Quick Sort\n",
    "def quickSort(arr, start, end):\n",
    "    if end-start<=1:\n",
    "        return\n",
    "    pivot=start # partion element is at index start\n",
    "    count=start # Calculate No of elements in arr which are <= pivot element\n",
    "    for i in range(start+1,end):\n",
    "        if arr[i]<=arr[pivot]:\n",
    "            count += 1\n",
    "    temp = arr[pivot]\n",
    "    arr[pivot] = arr[count]\n",
    "    arr[count] = temp\n",
    "    pivot = count;\n",
    "\n",
    "    left=start\n",
    "    right=end-1\n",
    "    while left<pivot:\n",
    "        while arr[left]<=arr[pivot] and left<pivot:\n",
    "            left+=1\n",
    "        if left>=pivot:\n",
    "            break\n",
    "        while arr[right]>arr[pivot]:\n",
    "            right-=1\n",
    "        temp=arr[left]\n",
    "        arr[left]=arr[right]\n",
    "        arr[right]=temp\n",
    "        left += 1\n",
    "        right -= 1\n",
    "    quickSort(arr, start, pivot);\n",
    "    quickSort(arr, pivot+1, end);\n",
    "\n",
    "n=int(input())\n",
    "arr=list(int(i) for i in input().strip().split(' '))\n",
    "quickSort(arr, 0, n)\n",
    "for number in arr:\n",
    "    print(number, end=' ')\n",
    "print()\n"
   ]
  },
  {
   "cell_type": "markdown",
   "metadata": {},
   "source": [
    "Tower of Hanoi-Problem"
   ]
  },
  {
   "cell_type": "code",
   "execution_count": null,
   "metadata": {},
   "outputs": [],
   "source": [
    "def towerofhanoi(n, source, aux, dest):\n",
    "    if n<=0:\n",
    "        return\n",
    "    towerofhanoi(n-1, source, dest, aux)\n",
    "    print(source, dest)\n",
    "    towerofhanoi(n-1, aux, source, dest)\n",
    "\n",
    "n=int(input())\n",
    "towerofhanoi(n, 'a', 'b', 'c')\n"
   ]
  }
 ],
 "metadata": {
  "kernelspec": {
   "display_name": "Python 3",
   "language": "python",
   "name": "python3"
  },
  "language_info": {
   "codemirror_mode": {
    "name": "ipython",
    "version": 3
   },
   "file_extension": ".py",
   "mimetype": "text/x-python",
   "name": "python",
   "nbconvert_exporter": "python",
   "pygments_lexer": "ipython3",
   "version": "3.8.5"
  }
 },
 "nbformat": 4,
 "nbformat_minor": 4
}
