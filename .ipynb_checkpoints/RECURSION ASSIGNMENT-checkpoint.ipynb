{
 "cells": [
  {
   "cell_type": "markdown",
   "metadata": {},
   "source": [
    "Check Palindrome - Recursively"
   ]
  },
  {
   "cell_type": "code",
   "execution_count": null,
   "metadata": {},
   "outputs": [],
   "source": [
    "# Problem ID 36 Check Palindrome using recursion \n",
    "def RcheckPalindrome(str):\n",
    "    size=len(str)\n",
    "    if size <= 1:\n",
    "        return True\n",
    "    if str[0]!=str[size-1]:\n",
    "        return False\n",
    "    return RcheckPalindrome(str[1:-1])\n",
    "\n",
    "# Main\n",
    "from sys import setrecursionlimit\n",
    "setrecursionlimit(11000)\n",
    "str=input()\n",
    "if RcheckPalindrome(str):\n",
    "    print('true')\n",
    "else:\n",
    "    print('false')\n"
   ]
  },
  {
   "cell_type": "markdown",
   "metadata": {},
   "source": [
    "Sum of Digits"
   ]
  },
  {
   "cell_type": "code",
   "execution_count": null,
   "metadata": {},
   "outputs": [],
   "source": [
    "def sum_of_digit( n ): \n",
    "    if n == 0: \n",
    "        return 0\n",
    "    return (n % 10 + sum_of_digit(int(n / 10))) \n",
    "  \n",
    "num = int(input())\n",
    "result = sum_of_digit(num) \n",
    "print(result) "
   ]
  },
  {
   "cell_type": "markdown",
   "metadata": {},
   "source": [
    "Multiplication Recursively"
   ]
  },
  {
   "cell_type": "code",
   "execution_count": null,
   "metadata": {},
   "outputs": [],
   "source": [
    "def product( x , y ): \n",
    "    \n",
    "       return x * y\n",
    "\n",
    "x = int(input())\n",
    "y = int(input())\n",
    "print( product(x, y)) "
   ]
  },
  {
   "cell_type": "markdown",
   "metadata": {},
   "source": [
    "Count Zeros"
   ]
  },
  {
   "cell_type": "code",
   "execution_count": null,
   "metadata": {},
   "outputs": [],
   "source": [
    "def countZeros(n):\n",
    "    if n<0:\n",
    "        n *= -1;  # Make n positive\n",
    "    if n<10:\n",
    "        if n == 0:\n",
    "            return 1\n",
    "        return 0\n",
    "    smallAns = countZeros(n // 10)\n",
    "    if n%10==0:\n",
    "        smallAns += 1\n",
    "    return smallAns\n",
    "\n",
    "# Main\n",
    "from sys import setrecursionlimit\n",
    "setrecursionlimit(11000)\n",
    "n=int(input())\n",
    "print(countZeros(n))\n"
   ]
  },
  {
   "cell_type": "markdown",
   "metadata": {},
   "source": [
    "String To Integer"
   ]
  },
  {
   "cell_type": "code",
   "execution_count": null,
   "metadata": {},
   "outputs": [],
   "source": [
    "def stringToInt(str): \n",
    "\n",
    "    if (len(str) == 1): \n",
    "        return ord(str[0]) - ord('0'); \n",
    "\n",
    "    y = stringToInt(str[1:]); \n",
    "  \n",
    " \n",
    "    x = ord(str[0]) - ord('0'); \n",
    "      \n",
    "\n",
    "    x = x * (10**(len(str) - 1)) + y; \n",
    "    return int(x); \n",
    "\n",
    "if __name__ == '__main__': \n",
    "    str = input()\n",
    "    print(stringToInt(str)); "
   ]
  },
  {
   "cell_type": "markdown",
   "metadata": {},
   "source": [
    "Pair Star"
   ]
  },
  {
   "cell_type": "code",
   "execution_count": null,
   "metadata": {},
   "outputs": [],
   "source": [
    "def pairStar(Input, Output, i = 0) : \n",
    "      \n",
    "\n",
    "    Output = Output + Input[i] \n",
    "  \n",
    " \n",
    "    if (i == len(Input) - 1) : \n",
    "        print(Output) \n",
    "        return;  \n",
    "\n",
    "    if (Input[i] == Input[i + 1]) :  \n",
    "        Output = Output + '*';  \n",
    "  \n",
    "    pairStar(Input, Output, i + 1);  \n",
    "  \n",
    "\n",
    "if __name__ == \"__main__\" : \n",
    "  \n",
    "    Input = input()\n",
    "    Output = \"\" \n",
    "    pairStar(Input, Output);  "
   ]
  },
  {
   "cell_type": "markdown",
   "metadata": {},
   "source": [
    "Check AB"
   ]
  },
  {
   "cell_type": "code",
   "execution_count": null,
   "metadata": {},
   "outputs": [],
   "source": [
    "def checkAB(str) :\n",
    "    if(len(str) == 0):\n",
    "        return True\n",
    "    \n",
    "    if(str[0] == 'a') :\n",
    "        if(len(str[1:]) > 1 and str[1:3] == 'bb') :\n",
    "            return checkAB(str[3:])\n",
    "        else:\n",
    "            return checkAB(str[1:])\n",
    "    else :\n",
    "        return False\n",
    "\n",
    "\n",
    "str=input()\n",
    "if(checkAB(str)):\n",
    "    print(\"true\")\n",
    "else:\n",
    "    print(\"false\")"
   ]
  },
  {
   "cell_type": "markdown",
   "metadata": {},
   "source": [
    "StairCase"
   ]
  },
  {
   "cell_type": "code",
   "execution_count": null,
   "metadata": {},
   "outputs": [],
   "source": [
    "# Problem ID 846 Staircase\n",
    "def staircase(n):\n",
    "    if(n<3):\n",
    "        return n\n",
    "    if(n==3):\n",
    "        return 4\n",
    "    return staircase(n-1)+staircase(n-2)+staircase(n-3)\n",
    "\n",
    "n=int(input())\n",
    "count=staircase(n)\n",
    "print(count)\n"
   ]
  }
 ],
 "metadata": {
  "kernelspec": {
   "display_name": "Python 3",
   "language": "python",
   "name": "python3"
  },
  "language_info": {
   "codemirror_mode": {
    "name": "ipython",
    "version": 3
   },
   "file_extension": ".py",
   "mimetype": "text/x-python",
   "name": "python",
   "nbconvert_exporter": "python",
   "pygments_lexer": "ipython3",
   "version": "3.8.5"
  }
 },
 "nbformat": 4,
 "nbformat_minor": 4
}
